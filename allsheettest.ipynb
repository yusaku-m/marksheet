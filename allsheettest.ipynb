{
 "cells": [
  {
   "cell_type": "code",
   "execution_count": 1,
   "metadata": {},
   "outputs": [
    {
     "name": "stdout",
     "output_type": "stream",
     "text": [
      "init\n"
     ]
    }
   ],
   "source": [
    "from packages import Marksheet\n",
    "\n",
    "marker_positions = [\n",
    "    ( 2, 26),\n",
    "    ( 2, 28),\n",
    "    ( 2, 56),\n",
    "    ( 3, 24),\n",
    "    (40,  2),\n",
    "    (40, 56),\n",
    "]\n",
    "\n",
    "sheet = Marksheet(path = \"./files/scan/back_sample.jpg\", \n",
    "                  row = 41, column = 57, \n",
    "                  marker_positions = marker_positions,\n",
    "                  monitor= True)"
   ]
  },
  {
   "cell_type": "code",
   "execution_count": 2,
   "metadata": {},
   "outputs": [
    {
     "name": "stdout",
     "output_type": "stream",
     "text": [
      "init\n"
     ]
    }
   ],
   "source": [
    "from packages import Marksheet\n",
    "\n",
    "marker_positions = [\n",
    "    ( 2, 28),\n",
    "    ( 2, 56),\n",
    "    (40,  2),\n",
    "    (40,  4),\n",
    "    (40, 56),\n",
    "]\n",
    "\n",
    "sheet = Marksheet(path = \"./files/scan/top_sample.jpg\", \n",
    "                  row = 41, column = 57, \n",
    "                  marker_positions=marker_positions,\n",
    "                  monitor= True)"
   ]
  },
  {
   "cell_type": "code",
   "execution_count": 3,
   "metadata": {},
   "outputs": [
    {
     "name": "stdout",
     "output_type": "stream",
     "text": [
      "open ./files/scan/top_sample.jpg\n",
      "read image shape: (2336, 1647, 3)\n"
     ]
    }
   ],
   "source": [
    "sheet.read()"
   ]
  },
  {
   "cell_type": "code",
   "execution_count": 4,
   "metadata": {},
   "outputs": [
    {
     "name": "stdout",
     "output_type": "stream",
     "text": [
      "rotated to horizontal\n",
      "make reference image shape: (1566, 2254) reqtangle h,w: 40.170731707317074 40.98245614035088\n",
      "rotation: 0, max_val: 0.45502108335494995\n",
      "rotation: 1, max_val: 0.16419143974781036\n",
      "best_rotation: 0\n",
      "rotation complete\n",
      "aliment start\n",
      "make reference image shape: (1566, 2254) reqtangle h,w: 40.170731707317074 40.98245614035088\n",
      "aliment complete, best match: 0.9390972256660461 angle: 0.1111111111111111 scale: 1.0033333333333334 1.0150000000000001 shape (1566, 2254, 3)\n"
     ]
    }
   ],
   "source": [
    "sheet.rotation()\n",
    "sheet.aliment()"
   ]
  },
  {
   "cell_type": "markdown",
   "metadata": {},
   "source": []
  },
  {
   "cell_type": "code",
   "execution_count": 5,
   "metadata": {},
   "outputs": [
    {
     "name": "stdout",
     "output_type": "stream",
     "text": [
      "make reference image shape: (1566, 2254, 3) reqtangle h,w: 40.15384615384615 40.981818181818184\n"
     ]
    },
    {
     "data": {
      "text/plain": [
       "<packages.Image.Image at 0x1e3cffb98a0>"
      ]
     },
     "execution_count": 5,
     "metadata": {},
     "output_type": "execute_result"
    }
   ],
   "source": [
    "sheet.draw_grid()"
   ]
  },
  {
   "cell_type": "code",
   "execution_count": null,
   "metadata": {},
   "outputs": [],
   "source": []
  }
 ],
 "metadata": {
  "kernelspec": {
   "display_name": "Python 3",
   "language": "python",
   "name": "python3"
  },
  "language_info": {
   "codemirror_mode": {
    "name": "ipython",
    "version": 3
   },
   "file_extension": ".py",
   "mimetype": "text/x-python",
   "name": "python",
   "nbconvert_exporter": "python",
   "pygments_lexer": "ipython3",
   "version": "3.10.4"
  }
 },
 "nbformat": 4,
 "nbformat_minor": 2
}
