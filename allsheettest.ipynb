{
 "cells": [
  {
   "cell_type": "code",
   "execution_count": 1,
   "metadata": {},
   "outputs": [
    {
     "name": "stdout",
     "output_type": "stream",
     "text": [
      "scoring start of Q 1\n",
      "scoring start of Q 2\n",
      "scoring start of Q 3\n",
      "question scoring error\n",
      "question scoring error\n",
      "question scoring error\n",
      "question scoring error\n",
      "question scoring error\n",
      "30\n"
     ]
    }
   ],
   "source": [
    "from packages import Exam\n",
    "import numpy as np\n",
    "path = [\"./files/result/csv/top_sample.csv\",\n",
    "        \"./files/result/csv/back_sample.csv\"]\n",
    "\n",
    "exam = Exam.Exam(path)\n",
    "exam.get_marks()\n",
    "exam.get_student()\n",
    "exam.parts.append(Exam.SingleAlphabetPart(exam.marks[0][4:9, 1:27],[\"A\",\"Q\",\"B\",\"H\",\"P\"],[2]*5))\n",
    "exam.parts.append(Exam.SingleAlphabetPart(exam.marks[0][10:20, 1:27],[\"A\",\"E\",\"B\",\"C\",\"H\",\"I\",\"J\",\"M\",\"N\",\"O\"],[2]*10))\n",
    "exam.parts.append(Exam.DualNumberPart(\n",
    "    marks = np.vstack([exam.marks[0][21:37, 4:27], exam.marks[0][3:7, 31:54]]),\n",
    "    collects =[\"A\",\"E\",\"B\",\"C\",\"H\",\"I\",\"J\",\"M\",\"N\",\"O\"],\n",
    "    allocations = [6]*5\n",
    "    ))\n",
    "exam.scoring()\n",
    "\n",
    "print(exam.score)"
   ]
  },
  {
   "cell_type": "code",
   "execution_count": null,
   "metadata": {},
   "outputs": [],
   "source": [
    "from packages import Marksheet\n",
    "\n",
    "marker_positions = [\n",
    "    ( 2, 26),\n",
    "    ( 2, 28),\n",
    "    ( 2, 56),\n",
    "    ( 3, 24),\n",
    "    (40,  2),\n",
    "    (40, 56),\n",
    "]\n",
    "\n",
    "sheet = Marksheet(path = \"./files/scan/back_sample.jpg\", \n",
    "                  row = 41, column = 57, \n",
    "                  marker_positions = marker_positions,\n",
    "                  binary_threshold=240,\n",
    "                  monitor= True)\n",
    "sheet.read()\n",
    "sheet.rotation()\n",
    "sheet.aliment()\n",
    "sheet.draw_grid()\n",
    "sheet.threshold_check()\n",
    "sheet.make_grids()\n",
    "sheet.mark_check()\n",
    "sheet.save()"
   ]
  },
  {
   "cell_type": "code",
   "execution_count": null,
   "metadata": {},
   "outputs": [],
   "source": [
    "from packages import Marksheet\n",
    "\n",
    "marker_positions = [\n",
    "    ( 2, 28),\n",
    "    ( 2, 56),\n",
    "    (40,  2),\n",
    "    (40,  4),\n",
    "    (40, 56),\n",
    "]\n",
    "\n",
    "sheet = Marksheet(path = \"./files/scan/top_sample.jpg\", \n",
    "                  row = 41, column = 57, \n",
    "                  marker_positions=marker_positions,\n",
    "                  binary_threshold=240,\n",
    "                  monitor= True)\n",
    "\n",
    "sheet.read()\n",
    "sheet.rotation()\n",
    "sheet.aliment()\n",
    "sheet.draw_grid()\n",
    "sheet.threshold_check()\n",
    "sheet.make_grids()\n",
    "sheet.mark_check()\n",
    "sheet.save()\n"
   ]
  },
  {
   "cell_type": "code",
   "execution_count": null,
   "metadata": {},
   "outputs": [],
   "source": [
    "def extract_significant_digit(value):\n",
    "    # 浮動小数点型の値を1桁の有効桁数で文字列に変換\n",
    "    formatted_value = format(value, \".0e\")\n",
    "    # フォーマットされた文字列から数値部分を抽出\n",
    "    significant_digit = int(formatted_value.split('e')[0])\n",
    "    return significant_digit\n",
    "\n",
    "# テスト例\n",
    "values = [1234.5678, 0.00456, -789.01, 0.0]\n",
    "significant_digits = [extract_significant_digit(v) for v in values]\n",
    "\n",
    "print(significant_digits)  # ['1.2', '4.6', '-7.9', '0.0']"
   ]
  },
  {
   "cell_type": "code",
   "execution_count": null,
   "metadata": {},
   "outputs": [],
   "source": [
    "import numpy as np\n",
    "\n",
    "# 10個の乱数要素の配列を作成\n",
    "random_array = np.random.rand(10)\n",
    "\n",
    "# 要素すべての積を計算\n",
    "product = np.prod(random_array)\n",
    "\n",
    "print(\"ランダム配列:\", random_array)\n",
    "print(\"要素すべての積:\", product)"
   ]
  },
  {
   "cell_type": "code",
   "execution_count": null,
   "metadata": {},
   "outputs": [],
   "source": []
  }
 ],
 "metadata": {
  "kernelspec": {
   "display_name": "Python 3",
   "language": "python",
   "name": "python3"
  },
  "language_info": {
   "codemirror_mode": {
    "name": "ipython",
    "version": 3
   },
   "file_extension": ".py",
   "mimetype": "text/x-python",
   "name": "python",
   "nbconvert_exporter": "python",
   "pygments_lexer": "ipython3",
   "version": "3.10.6"
  }
 },
 "nbformat": 4,
 "nbformat_minor": 2
}
