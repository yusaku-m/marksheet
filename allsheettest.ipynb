{
 "cells": [
  {
   "cell_type": "code",
   "execution_count": null,
   "metadata": {},
   "outputs": [],
   "source": [
    "from packages import Exam\n",
    "from packages import Unit\n",
    "import numpy as np\n",
    "path = [\"./files/result/csv/top_sample.csv\",\n",
    "        \"./files/result/csv/back_sample.csv\"]\n",
    "\n",
    "\n",
    "\n",
    "exam = Exam.Exam(path)\n",
    "exam.get_marks()\n",
    "exam.get_student()\n",
    "#q1\n",
    "exam.parts.append(Exam.SingleAlphabetPart(marks=exam.marks[0][4:9, 1:27], corrects=[\"A\",\"Q\",\"B\",\"H\",\"P\"], allocations=[2] * 5))\n",
    "#q2\n",
    "exam.parts.append(Exam.SingleAlphabetPart(marks=exam.marks[0][10:20, 1:27], corrects=[\"A\",\"E\",\"B\",\"C\",\"H\",\"I\",\"J\",\"M\",\"N\",\"O\"], allocations=[2] * 10))\n",
    "#q3\n",
    "exam.parts.append(Exam.DualNumberPart(\n",
    "    marks = np.vstack([exam.marks[0][21:37, 3:27], exam.marks[0][2:6, 31:55]]),\n",
    "    corrects = [\n",
    "        [(1e3, Unit.N()),(-3e3, Unit.Nm())],\n",
    "        [(3e2, Unit.N()),(-5e2, Unit.Nm())],\n",
    "        [(4e1, Unit.N()),(-4e1, Unit.N())],\n",
    "        [(1e3, Unit.N()),(1e3, Unit.N())],\n",
    "        [(-6e1, Unit.N()),(5e2, Unit.N())]\n",
    "    ],\n",
    "    allocations = [6] * 5\n",
    "    ))\n",
    "\n",
    "\n",
    "\n",
    "exam.scoring()\n",
    "\n",
    "print(exam.score)"
   ]
  },
  {
   "cell_type": "markdown",
   "metadata": {},
   "source": [
    "q4"
   ]
  },
  {
   "cell_type": "code",
   "execution_count": null,
   "metadata": {},
   "outputs": [],
   "source": [
    "variables = [\n",
    "    {\"name\":\"w0\", \"value\":1e2, \"unit\":Unit.N_per_m(), \"correct\": \"w0\", \"first difine\": 0},\n",
    "    {\"name\":\"EI\", \"value\":1e5, \"unit\":Unit.Nm2(), \"correct\": \"EI\", \"first difine\": 0},\n",
    "    {\"name\":\"L\", \"value\":1e1, \"unit\":Unit.m(), \"correct\": \"L\", \"first difine\": 0},\n",
    "    {\"name\":\"x\", \"value\":None, \"unit\":Unit.m(), \"correct\": \"np.linspace(0,2/L, 10)\", \"first difine\": 1},\n",
    "    {\"name\":\"RA\", \"value\":None, \"unit\":Unit.N(), \"correct\": \"w0 * L\", \"first difine\": 2},\n",
    "    {\"name\":\"RB\", \"value\":None, \"unit\":Unit.N(), \"correct\": \"w0 * L\", \"first difine\": 2},\n",
    "    {\"name\":\"a\", \"value\":None, \"unit\":Unit.N_per_m(), \"correct\": \"w0 * x / L\", \"first difine\": 3},\n",
    "    {\"name\":\"x1\", \"value\":None, \"unit\":Unit.m(), \"correct\": \"0\", \"first difine\": 4},\n",
    "    {\"name\":\"x2\", \"value\":None, \"unit\":Unit.m(), \"correct\": \"L\", \"first difine\": 5},\n",
    "    {\"name\":\"theta\", \"value\":None, \"unit\":Unit.m(), \"correct\": \"5 * w0 * L ** 2 / 48 / EI\", \"first difine\": 6},\n",
    "    {\"name\":\"delta\", \"value\":None, \"unit\":Unit.m(), \"correct\": \"13 * w0 * L ** 4 / 384 / EI\", \"first difine\": 7}\n",
    "]\n",
    "\n",
    "exam.parts.append(\n",
    "    Exam.Part(\n",
    "        marks=exam.marks[0][4:9, 1:27],\n",
    "        variables=variables,\n",
    "        allocations=[2] * 5))"
   ]
  },
  {
   "cell_type": "code",
   "execution_count": null,
   "metadata": {},
   "outputs": [],
   "source": [
    "eval(\"np.array([1,1])\")"
   ]
  },
  {
   "cell_type": "code",
   "execution_count": null,
   "metadata": {},
   "outputs": [],
   "source": [
    "Unit.Unit().value"
   ]
  },
  {
   "cell_type": "code",
   "execution_count": 1,
   "metadata": {},
   "outputs": [
    {
     "name": "stdout",
     "output_type": "stream",
     "text": [
      "init\n",
      "open ./files/scan/back_sample.jpg\n",
      "read image shape: (2341, 1643, 3)\n",
      "rotated to horizontal\n",
      "make reference image shape: (1562, 2258) reqtangle h,w: 40.073170731707314 41.07017543859649\n",
      "rotation: 0, max_val: 0.17581678926944733\n",
      "rotation: 1, max_val: 0.5526888370513916\n",
      "best_rotation: 1\n",
      "rotation complete\n",
      "aliment start\n",
      "make reference image shape: (1562, 2258) reqtangle h,w: 40.073170731707314 41.07017543859649\n",
      "aliment complete, best match: 0.9277305006980896 angle: -0.2222222222222222 scale: 1.0111111111111113 1.0150000000000001 shape (1562, 2258, 3)\n",
      "make reference image shape: (1562, 2258, 3) reqtangle h,w: 40.05128205128205 41.054545454545455\n",
      "mark check\n"
     ]
    }
   ],
   "source": [
    "from packages import Marksheet\n",
    "\n",
    "marker_positions = [\n",
    "    ( 2, 26),\n",
    "    ( 2, 28),\n",
    "    ( 2, 56),\n",
    "    ( 3, 24),\n",
    "    (40,  2),\n",
    "    (40, 56),\n",
    "]\n",
    "\n",
    "sheet = Marksheet(path = \"./files/scan/back_sample.jpg\", \n",
    "                  row = 41, column = 57, \n",
    "                  marker_positions = marker_positions,\n",
    "                  binary_threshold=240,\n",
    "                  monitor= True)\n",
    "sheet.read()\n",
    "sheet.rotation()\n",
    "sheet.aliment()\n",
    "sheet.draw_grid()\n",
    "sheet.threshold_check()\n",
    "sheet.make_grids()\n",
    "sheet.mark_check()\n",
    "sheet.save()"
   ]
  },
  {
   "cell_type": "code",
   "execution_count": 2,
   "metadata": {},
   "outputs": [
    {
     "name": "stdout",
     "output_type": "stream",
     "text": [
      "init\n",
      "open ./files/scan/top_sample.jpg\n",
      "read image shape: (2336, 1647, 3)\n",
      "rotated to horizontal\n",
      "make reference image shape: (1566, 2254) reqtangle h,w: 40.170731707317074 40.98245614035088\n",
      "rotation: 0, max_val: 0.45502108335494995\n",
      "rotation: 1, max_val: 0.16419143974781036\n",
      "best_rotation: 0\n",
      "rotation complete\n",
      "aliment start\n",
      "make reference image shape: (1566, 2254) reqtangle h,w: 40.170731707317074 40.98245614035088\n",
      "aliment complete, best match: 0.9390972256660461 angle: 0.1111111111111111 scale: 1.0033333333333334 1.0150000000000001 shape (1566, 2254, 3)\n",
      "make reference image shape: (1566, 2254, 3) reqtangle h,w: 40.15384615384615 40.981818181818184\n",
      "mark check\n"
     ]
    }
   ],
   "source": [
    "from packages import Marksheet\n",
    "\n",
    "marker_positions = [\n",
    "    ( 2, 28),\n",
    "    ( 2, 56),\n",
    "    (40,  2),\n",
    "    (40,  4),\n",
    "    (40, 56),\n",
    "]\n",
    "\n",
    "sheet = Marksheet(path = \"./files/scan/top_sample.jpg\", \n",
    "                  row = 41, column = 57, \n",
    "                  marker_positions=marker_positions,\n",
    "                  binary_threshold=240,\n",
    "                  monitor= True)\n",
    "\n",
    "sheet.read()\n",
    "sheet.rotation()\n",
    "sheet.aliment()\n",
    "sheet.draw_grid()\n",
    "sheet.threshold_check()\n",
    "sheet.make_grids()\n",
    "sheet.mark_check()\n",
    "sheet.save()\n"
   ]
  },
  {
   "cell_type": "code",
   "execution_count": null,
   "metadata": {},
   "outputs": [],
   "source": []
  }
 ],
 "metadata": {
  "kernelspec": {
   "display_name": "Python 3",
   "language": "python",
   "name": "python3"
  },
  "language_info": {
   "codemirror_mode": {
    "name": "ipython",
    "version": 3
   },
   "file_extension": ".py",
   "mimetype": "text/x-python",
   "name": "python",
   "nbconvert_exporter": "python",
   "pygments_lexer": "ipython3",
   "version": "3.10.4"
  }
 },
 "nbformat": 4,
 "nbformat_minor": 2
}
