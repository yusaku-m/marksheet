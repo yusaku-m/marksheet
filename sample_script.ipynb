{
 "cells": [
  {
   "cell_type": "code",
   "execution_count": null,
   "metadata": {},
   "outputs": [],
   "source": [
    "#クラスのインポート\n",
    "import sys\n",
    "sys.path.append(\"..\")\n",
    "import packages\n",
    "import os\n",
    "from glob import glob"
   ]
  },
  {
   "cell_type": "code",
   "execution_count": null,
   "metadata": {},
   "outputs": [],
   "source": [
    "#ファイルの一覧を作成\n",
    "folder = \"./files/scan_images\"\n",
    "files = sorted(glob(f\"{folder}/*.jpg\"))"
   ]
  },
  {
   "cell_type": "code",
   "execution_count": null,
   "metadata": {},
   "outputs": [],
   "source": [
    "#読み込みと保存\n",
    "for filepath in files:\n",
    "    print(os.path.basename(filepath))\n",
    "    marker_positions = [\n",
    "        ( 2, 28),\n",
    "        ( 2, 56),\n",
    "        ( 5,  4),\n",
    "        (40,  2),\n",
    "        (40,  4),\n",
    "        (40, 56),\n",
    "    ]\n",
    "\n",
    "    sheet = packages.Marksheet(path = filepath,  \n",
    "                    row = 41, column = 57, \n",
    "                    marker_positions = marker_positions,\n",
    "                    mark_threshold= 0.3,\n",
    "                    binary_threshold = 200,\n",
    "                    monitor= True)\n",
    "    sheet.read()\n",
    "    sheet.rotation()\n",
    "    sheet.aliment()\n",
    "    sheet.make_grids()\n",
    "    sheet.mark_check()\n",
    "    sheet.draw_grid()\n",
    "    sheet.save()\n",
    "\n"
   ]
  },
  {
   "cell_type": "code",
   "execution_count": null,
   "metadata": {},
   "outputs": [],
   "source": []
  }
 ],
 "metadata": {
  "kernelspec": {
   "display_name": "default",
   "language": "python",
   "name": "python3"
  },
  "language_info": {
   "codemirror_mode": {
    "name": "ipython",
    "version": 3
   },
   "file_extension": ".py",
   "mimetype": "text/x-python",
   "name": "python",
   "nbconvert_exporter": "python",
   "pygments_lexer": "ipython3",
   "version": "3.13.5"
  }
 },
 "nbformat": 4,
 "nbformat_minor": 2
}
