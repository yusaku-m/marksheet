{
 "cells": [
  {
   "cell_type": "code",
   "execution_count": 1,
   "metadata": {},
   "outputs": [
    {
     "name": "stdout",
     "output_type": "stream",
     "text": [
      "99\n",
      "10\n"
     ]
    }
   ],
   "source": [
    "from packages import Exam\n",
    "path = [\"./files/result/csv/top_sample.csv\",\n",
    "        \"./files/result/csv/back_sample.csv\"]\n",
    "exam = Exam.Exam(path)\n",
    "exam.get_marks()\n",
    "exam.get_student()\n",
    "print(exam.student_num)\n",
    "a = Exam.SingleAlphabetPart(exam.marks[0][4:9, 1:27],[\"A\",\"Q\",\"B\",\"H\",\"P\",],[2]*5)\n",
    "a.scoring()\n",
    "\n",
    "print(a.score)"
   ]
  },
  {
   "cell_type": "code",
   "execution_count": 4,
   "metadata": {},
   "outputs": [
    {
     "name": "stdout",
     "output_type": "stream",
     "text": [
      "init\n",
      "open ./files/scan/back_sample.jpg\n",
      "read image shape: (2341, 1643, 3)\n",
      "rotated to horizontal\n",
      "make reference image shape: (1562, 2258) reqtangle h,w: 40.073170731707314 41.07017543859649\n",
      "rotation: 0, max_val: 0.17581678926944733\n",
      "rotation: 1, max_val: 0.5526888370513916\n",
      "best_rotation: 1\n",
      "rotation complete\n",
      "aliment start\n",
      "make reference image shape: (1562, 2258) reqtangle h,w: 40.073170731707314 41.07017543859649\n",
      "aliment complete, best match: 0.9277305006980896 angle: -0.2222222222222222 scale: 1.0111111111111113 1.0150000000000001 shape (1562, 2258, 3)\n",
      "make reference image shape: (1562, 2258, 3) reqtangle h,w: 40.05128205128205 41.054545454545455\n",
      "mark check\n"
     ]
    }
   ],
   "source": [
    "from packages import Marksheet\n",
    "\n",
    "marker_positions = [\n",
    "    ( 2, 26),\n",
    "    ( 2, 28),\n",
    "    ( 2, 56),\n",
    "    ( 3, 24),\n",
    "    (40,  2),\n",
    "    (40, 56),\n",
    "]\n",
    "\n",
    "sheet = Marksheet(path = \"./files/scan/back_sample.jpg\", \n",
    "                  row = 41, column = 57, \n",
    "                  marker_positions = marker_positions,\n",
    "                  binary_threshold=240,\n",
    "                  monitor= True)\n",
    "sheet.read()\n",
    "sheet.rotation()\n",
    "sheet.aliment()\n",
    "sheet.draw_grid()\n",
    "sheet.threshold_check()\n",
    "sheet.make_grids()\n",
    "sheet.mark_check()\n",
    "sheet.save()"
   ]
  },
  {
   "cell_type": "code",
   "execution_count": 5,
   "metadata": {},
   "outputs": [
    {
     "name": "stdout",
     "output_type": "stream",
     "text": [
      "init\n",
      "open ./files/scan/top_sample.jpg\n",
      "read image shape: (2336, 1647, 3)\n",
      "rotated to horizontal\n",
      "make reference image shape: (1566, 2254) reqtangle h,w: 40.170731707317074 40.98245614035088\n",
      "rotation: 0, max_val: 0.45502108335494995\n",
      "rotation: 1, max_val: 0.16419143974781036\n",
      "best_rotation: 0\n",
      "rotation complete\n",
      "aliment start\n",
      "make reference image shape: (1566, 2254) reqtangle h,w: 40.170731707317074 40.98245614035088\n",
      "aliment complete, best match: 0.9390972256660461 angle: 0.1111111111111111 scale: 1.0033333333333334 1.0150000000000001 shape (1566, 2254, 3)\n",
      "make reference image shape: (1566, 2254, 3) reqtangle h,w: 40.15384615384615 40.981818181818184\n",
      "mark check\n"
     ]
    }
   ],
   "source": [
    "from packages import Marksheet\n",
    "\n",
    "marker_positions = [\n",
    "    ( 2, 28),\n",
    "    ( 2, 56),\n",
    "    (40,  2),\n",
    "    (40,  4),\n",
    "    (40, 56),\n",
    "]\n",
    "\n",
    "sheet = Marksheet(path = \"./files/scan/top_sample.jpg\", \n",
    "                  row = 41, column = 57, \n",
    "                  marker_positions=marker_positions,\n",
    "                  binary_threshold=240,\n",
    "                  monitor= True)\n",
    "\n",
    "sheet.read()\n",
    "sheet.rotation()\n",
    "sheet.aliment()\n",
    "sheet.draw_grid()\n",
    "sheet.threshold_check()\n",
    "sheet.make_grids()\n",
    "sheet.mark_check()\n",
    "sheet.save()\n"
   ]
  },
  {
   "cell_type": "code",
   "execution_count": null,
   "metadata": {},
   "outputs": [],
   "source": []
  }
 ],
 "metadata": {
  "kernelspec": {
   "display_name": "Python 3",
   "language": "python",
   "name": "python3"
  },
  "language_info": {
   "codemirror_mode": {
    "name": "ipython",
    "version": 3
   },
   "file_extension": ".py",
   "mimetype": "text/x-python",
   "name": "python",
   "nbconvert_exporter": "python",
   "pygments_lexer": "ipython3",
   "version": "3.10.4"
  }
 },
 "nbformat": 4,
 "nbformat_minor": 2
}
