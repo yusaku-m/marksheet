{
 "cells": [
  {
   "cell_type": "code",
   "execution_count": 6,
   "metadata": {},
   "outputs": [
    {
     "name": "stdout",
     "output_type": "stream",
     "text": [
      "[0, 1, -2]\n"
     ]
    }
   ],
   "source": [
    "from packages import Unit\n",
    "data = 5 *Unit.N_per_m()\n",
    "print(data.value)"
   ]
  },
  {
   "cell_type": "code",
   "execution_count": 7,
   "metadata": {},
   "outputs": [
    {
     "name": "stdout",
     "output_type": "stream",
     "text": [
      "scoring start of Q 1\n",
      "scoring start of Q 2\n",
      "scoring start of Q 3\n",
      "60.0\n"
     ]
    }
   ],
   "source": [
    "from packages import Exam\n",
    "from packages import Unit\n",
    "import numpy as np\n",
    "\n",
    "path = [\"./files/result/csv/top_sample.csv\",\n",
    "        \"./files/result/csv/back_sample.csv\"]\n",
    "\n",
    "exam = Exam.Exam(path)\n",
    "exam.get_marks()\n",
    "exam.get_student()\n",
    "#q1\n",
    "exam.parts.append(Exam.SingleAlphabetPart(marks=exam.marks[0][4:9, 1:27], corrects=[\"A\",\"Q\",\"B\",\"H\",\"P\"], allocations=[2] * 5))\n",
    "#q2\n",
    "exam.parts.append(Exam.SingleAlphabetPart(marks=exam.marks[0][10:20, 1:27], corrects=[\"A\",\"E\",\"B\",\"C\",\"H\",\"I\",\"J\",\"M\",\"N\",\"O\"], allocations=[2] * 10))\n",
    "#q3\n",
    "exam.parts.append(Exam.DualNumberPart(\n",
    "    marks = np.vstack([exam.marks[0][21:37, 3:27], exam.marks[0][2:6, 31:55]]),\n",
    "    corrects = [\n",
    "        [(1e3, Unit.N()),(-3e3, Unit.Nm())],\n",
    "        [(3e2, Unit.N()),(-5e2, Unit.Nm())],\n",
    "        [(4e1, Unit.N()),(-4e1, Unit.N())],\n",
    "        [(1e3, Unit.N()),(1e3, Unit.N())],\n",
    "        [(-6e1, Unit.N()),(5e2, Unit.N())]\n",
    "    ],\n",
    "    allocations = [6] * 5\n",
    "    ))\n",
    "\n",
    "exam.scoring()\n",
    "\n",
    "print(exam.score)"
   ]
  },
  {
   "cell_type": "markdown",
   "metadata": {},
   "source": [
    "q4"
   ]
  },
  {
   "cell_type": "code",
   "execution_count": 8,
   "metadata": {},
   "outputs": [
    {
     "name": "stdout",
     "output_type": "stream",
     "text": [
      "{'EI': 100000.0, 'h': 0.02, 'b': 0.03, 'w0': 100.0, 'L': 10.0}\n",
      "{'i': 'np.linspace(0,1,100)', 'y': 'np.linspace(1,2,100)', 'x': 'np.linspace(0, 2 / L , 10)', 'L^2': ' L ** 2', 'L^3': ' L ** 3', 'L^4': ' L ** 4'}\n",
      "{'i': 'non', 'y': 'm', 'x': 'm', 'EI': 'Nm2', 'h': 'm', 'b': 'm', 'w0': 'N_per_m', 'L': 'm', 'L^2': 'm2', 'L^3': 'm3', 'L^4': 'm4'}\n",
      "Error evaluating unit for x. you can check or add unit list on Unit.py: Cannot interpret '<packages.Unit.Unit object at 0x0000026D2D502CE0>' as a data type\n",
      "Unit.N_per_m()*Unit.m()\n",
      "RA: 1000.0 [[1, 1, -2]] (100.0*10.0)\n",
      "Unit.N_per_m()*Unit.m()\n",
      "RB: 1000.0 [[1, 1, -2]] (100.0*10.0)\n",
      "Unit.N_per_m()*Unit.m()/Unit.m()\n",
      "a: [0.         0.22222222 0.44444 [[0, 1, -2]] (100.0*(np.linspace(0, 2 /10.0, 10))/10.0)\n",
      "Unit.non()* 0 \n",
      "x1: [0. 0. 0. 0. 0. 0. 0. 0. 0. 0. [[0]] ((np.linspace(0,1,100))* 0 )\n",
      "Unit.m()*Unit.m()\n",
      "x2: [10.         10.1010101  10.20 [[2]] ((np.linspace(1,2,100))*10.0)\n",
      " 5 *Unit.N_per_m()*Unit.m()** 3 / 48 /Unit.Nm2()\n",
      "theta: 0.10416666666666666 [[0, 0, 0]] ( 5 *100.0*10.0** 3 / 48 /100000.0)\n",
      " 13 *Unit.N_per_m()*Unit.m()** 4 / 384 /Unit.Nm2()\n",
      "delta: 0.33854166666666663 [[1, 0, 0]] ( 13 *100.0*10.0** 4 / 384 /100000.0)\n"
     ]
    }
   ],
   "source": [
    "variables = [\n",
    "    {\"name\":\"i\", \"equation\":\"np.linspace(0,1,100)\", \"unit\":\"non\", \"first difine\": 0},\n",
    "    {\"name\":\"y\", \"equation\":\"np.linspace(1,2,100)\", \"unit\": \"m\", \"first difine\": 0},\n",
    "    {\"name\":\"x\", \"equation\":\"np.linspace(0, 2 / L , 10)\", \"unit\" : \"m\", \"first difine\": 0},\n",
    "    {\"name\":\"EI\", \"value\":1e5, \"unit\": \"Nm2\", \"first difine\": 0},\n",
    "    {\"name\":\"h\", \"value\":20e-3, \"unit\": \"m\", \"first difine\": 0},\n",
    "    {\"name\":\"b\", \"value\":30e-3, \"unit\": \"m\", \"first difine\": 0},\n",
    "    {\"name\":\"w0\", \"value\":1e2, \"unit\": \"N_per_m\", \"first difine\": 0},\n",
    "    {\"name\":\"L\", \"value\":1e1, \"unit\": \"m\", \"first difine\": 0},\n",
    "    {\"name\":\"L^2\", \"equation\":\" L ** 2\", \"unit\": \"m2\", \"first difine\": 0},\n",
    "    {\"name\":\"L^3\", \"equation\":\" L ** 3\", \"unit\": \"m3\", \"first difine\": 0},\n",
    "    {\"name\":\"L^4\", \"equation\":\" L ** 4\", \"unit\": \"m4\", \"first difine\": 0}\n",
    "]\n",
    "\n",
    "corrects = [\n",
    "    {\"name\":\"RA\", \"equation\":\" w0 * L \"},\n",
    "    {\"name\":\"RB\", \"equation\":\" w0 * L \"},\n",
    "    {\"name\":\"a\", \"equation\":\" w0 * x / L \"},\n",
    "    {\"name\":\"x1\", \"equation\":\" i * 0 \"},\n",
    "    {\"name\":\"x2\", \"equation\":\" y * L \"},\n",
    "    {\"name\":\"theta\", \"equation\":\" 5 * w0 * L ** 3 / 48 / EI \"},\n",
    "    {\"name\":\"delta\", \"equation\":\" 13 * w0 * L ** 4 / 384 / EI \"},    \n",
    "    ]\n",
    "\n",
    "unit_classes = [Unit.N(), Unit.m(), Unit.m2(), Unit.m3(), Unit.m4(), Unit.pers(), Unit.Pa(), Unit.K()]\n",
    "\n",
    "\n",
    "exam.parts.append(\n",
    "    Exam.Part(\n",
    "        marks = exam.marks[0][4:9, 1:27],\n",
    "        variables = variables,\n",
    "        corrects = corrects,\n",
    "        allocations = [2] * 5,\n",
    "        unit_classes=unit_classes\n",
    "        )\n",
    "    )\n",
    "\n",
    "exam.parts[3].update_variables_and_corrects()"
   ]
  },
  {
   "cell_type": "code",
   "execution_count": 10,
   "metadata": {},
   "outputs": [
    {
     "data": {
      "text/plain": [
       "[{'name': 'RA',\n",
       "  'equation': ' w0 * L ',\n",
       "  'value': 1000.0,\n",
       "  'unit': <packages.Unit.Unit at 0x26d2d5034c0>},\n",
       " {'name': 'RB',\n",
       "  'equation': ' w0 * L ',\n",
       "  'value': 1000.0,\n",
       "  'unit': <packages.Unit.Unit at 0x26d2d503490>},\n",
       " {'name': 'a',\n",
       "  'equation': ' w0 * x / L ',\n",
       "  'value': array([0.        , 0.22222222, 0.44444444, 0.66666667, 0.88888889,\n",
       "         1.11111111, 1.33333333, 1.55555556, 1.77777778, 2.        ]),\n",
       "  'unit': <packages.Unit.Unit at 0x26d2d3c6a40>},\n",
       " {'name': 'x1',\n",
       "  'equation': ' i * 0 ',\n",
       "  'value': array([0., 0., 0., 0., 0., 0., 0., 0., 0., 0., 0., 0., 0., 0., 0., 0., 0.,\n",
       "         0., 0., 0., 0., 0., 0., 0., 0., 0., 0., 0., 0., 0., 0., 0., 0., 0.,\n",
       "         0., 0., 0., 0., 0., 0., 0., 0., 0., 0., 0., 0., 0., 0., 0., 0., 0.,\n",
       "         0., 0., 0., 0., 0., 0., 0., 0., 0., 0., 0., 0., 0., 0., 0., 0., 0.,\n",
       "         0., 0., 0., 0., 0., 0., 0., 0., 0., 0., 0., 0., 0., 0., 0., 0., 0.,\n",
       "         0., 0., 0., 0., 0., 0., 0., 0., 0., 0., 0., 0., 0., 0., 0.]),\n",
       "  'unit': <packages.Unit.Unit at 0x26d2d502c20>},\n",
       " {'name': 'x2',\n",
       "  'equation': ' y * L ',\n",
       "  'value': array([10.        , 10.1010101 , 10.2020202 , 10.3030303 , 10.4040404 ,\n",
       "         10.50505051, 10.60606061, 10.70707071, 10.80808081, 10.90909091,\n",
       "         11.01010101, 11.11111111, 11.21212121, 11.31313131, 11.41414141,\n",
       "         11.51515152, 11.61616162, 11.71717172, 11.81818182, 11.91919192,\n",
       "         12.02020202, 12.12121212, 12.22222222, 12.32323232, 12.42424242,\n",
       "         12.52525253, 12.62626263, 12.72727273, 12.82828283, 12.92929293,\n",
       "         13.03030303, 13.13131313, 13.23232323, 13.33333333, 13.43434343,\n",
       "         13.53535354, 13.63636364, 13.73737374, 13.83838384, 13.93939394,\n",
       "         14.04040404, 14.14141414, 14.24242424, 14.34343434, 14.44444444,\n",
       "         14.54545455, 14.64646465, 14.74747475, 14.84848485, 14.94949495,\n",
       "         15.05050505, 15.15151515, 15.25252525, 15.35353535, 15.45454545,\n",
       "         15.55555556, 15.65656566, 15.75757576, 15.85858586, 15.95959596,\n",
       "         16.06060606, 16.16161616, 16.26262626, 16.36363636, 16.46464646,\n",
       "         16.56565657, 16.66666667, 16.76767677, 16.86868687, 16.96969697,\n",
       "         17.07070707, 17.17171717, 17.27272727, 17.37373737, 17.47474747,\n",
       "         17.57575758, 17.67676768, 17.77777778, 17.87878788, 17.97979798,\n",
       "         18.08080808, 18.18181818, 18.28282828, 18.38383838, 18.48484848,\n",
       "         18.58585859, 18.68686869, 18.78787879, 18.88888889, 18.98989899,\n",
       "         19.09090909, 19.19191919, 19.29292929, 19.39393939, 19.49494949,\n",
       "         19.5959596 , 19.6969697 , 19.7979798 , 19.8989899 , 20.        ]),\n",
       "  'unit': <packages.Unit.Unit at 0x26d2d3c6fb0>},\n",
       " {'name': 'theta',\n",
       "  'equation': ' 5 * w0 * L ** 3 / 48 / EI ',\n",
       "  'value': 0.10416666666666666,\n",
       "  'unit': <packages.Unit.Unit at 0x26d2d3c6950>},\n",
       " {'name': 'delta',\n",
       "  'equation': ' 13 * w0 * L ** 4 / 384 / EI ',\n",
       "  'value': 0.33854166666666663,\n",
       "  'unit': <packages.Unit.Unit at 0x26d2d3c7f10>}]"
      ]
     },
     "execution_count": 10,
     "metadata": {},
     "output_type": "execute_result"
    }
   ],
   "source": [
    "exam.parts[3].corrects"
   ]
  },
  {
   "cell_type": "code",
   "execution_count": null,
   "metadata": {},
   "outputs": [],
   "source": [
    "from packages import Marksheet\n",
    "\n",
    "marker_positions = [\n",
    "    ( 2, 26),\n",
    "    ( 2, 28),\n",
    "    ( 2, 56),\n",
    "    ( 3, 24),\n",
    "    (40,  2),\n",
    "    (40, 56),\n",
    "]\n",
    "\n",
    "sheet = Marksheet(path = \"./files/scan/back_sample.jpg\", \n",
    "                  row = 41, column = 57, \n",
    "                  marker_positions = marker_positions,\n",
    "                  binary_threshold=240,\n",
    "                  monitor= True)\n",
    "sheet.read()\n",
    "sheet.rotation()\n",
    "sheet.aliment()\n",
    "sheet.draw_grid()\n",
    "sheet.threshold_check()\n",
    "sheet.make_grids()\n",
    "sheet.mark_check()\n",
    "sheet.save()"
   ]
  },
  {
   "cell_type": "code",
   "execution_count": null,
   "metadata": {},
   "outputs": [],
   "source": [
    "from packages import Marksheet\n",
    "\n",
    "marker_positions = [\n",
    "    ( 2, 28),\n",
    "    ( 2, 56),\n",
    "    (40,  2),\n",
    "    (40,  4),\n",
    "    (40, 56),\n",
    "]\n",
    "\n",
    "sheet = Marksheet(path = \"./files/scan/top_sample.jpg\", \n",
    "                  row = 41, column = 57, \n",
    "                  marker_positions=marker_positions,\n",
    "                  binary_threshold=240,\n",
    "                  monitor= True)\n",
    "\n",
    "sheet.read()\n",
    "sheet.rotation()\n",
    "sheet.aliment()\n",
    "sheet.draw_grid()\n",
    "sheet.threshold_check()\n",
    "sheet.make_grids()\n",
    "sheet.mark_check()\n",
    "sheet.save()\n"
   ]
  },
  {
   "cell_type": "code",
   "execution_count": null,
   "metadata": {},
   "outputs": [],
   "source": []
  }
 ],
 "metadata": {
  "kernelspec": {
   "display_name": "Python 3",
   "language": "python",
   "name": "python3"
  },
  "language_info": {
   "codemirror_mode": {
    "name": "ipython",
    "version": 3
   },
   "file_extension": ".py",
   "mimetype": "text/x-python",
   "name": "python",
   "nbconvert_exporter": "python",
   "pygments_lexer": "ipython3",
   "version": "3.10.4"
  }
 },
 "nbformat": 4,
 "nbformat_minor": 2
}
