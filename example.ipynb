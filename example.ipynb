{
 "cells": [
  {
   "cell_type": "code",
   "execution_count": 1,
   "metadata": {},
   "outputs": [],
   "source": [
    "#自作クラスのインポート\n",
    "from packages import Exam\n",
    "\n",
    "# 必要モジュールのインポート\n",
    "import os\n",
    "import numpy as np\n",
    "import pandas as pd\n",
    "from glob import glob"
   ]
  },
  {
   "cell_type": "code",
   "execution_count": 2,
   "metadata": {},
   "outputs": [],
   "source": [
    "#環境変数の設定\n",
    "BasePath = fr\".\\files\""
   ]
  },
  {
   "cell_type": "code",
   "execution_count": 3,
   "metadata": {},
   "outputs": [
    {
     "name": "stdout",
     "output_type": "stream",
     "text": [
      "01.jpg\n",
      "02.jpg\n",
      "03.jpg\n"
     ]
    }
   ],
   "source": [
    "#ファイル名の変更\n",
    "for i, filepath in enumerate(sorted(glob(f\"{BasePath}/scan/*.jpg\"))):\n",
    "    print(os.path.basename(filepath))\n",
    "    os.path.dirname(filepath)\n",
    "    os.rename(filepath, F\"{os.path.dirname(filepath)}/{str(i+1).zfill(2)}.jpg\")"
   ]
  },
  {
   "cell_type": "markdown",
   "metadata": {},
   "source": [
    "スキャン結果から出席番号の読み取り"
   ]
  },
  {
   "cell_type": "code",
   "execution_count": 4,
   "metadata": {},
   "outputs": [
    {
     "name": "stdout",
     "output_type": "stream",
     "text": [
      "Loading\n",
      "01.jpg\n",
      "02.jpg\n",
      "03.jpg\n"
     ]
    }
   ],
   "source": [
    "sheets = []\n",
    "\n",
    "if os.path.exists(f\"{BasePath}/concat\"):\n",
    "\n",
    "    print(\"Loading\")\n",
    "    #スキャンデータを結合，方向補正，出席番号を取得して保存\n",
    "    tergetfolder = \"concat\"\n",
    "    for i, filepath in enumerate(glob(f\"{BasePath}/{tergetfolder}/*\")):\n",
    "        print(os.path.basename(filepath))\n",
    "        sheets.append(Exam.Paper(BasePath))\n",
    "        student_num = int(os.path.splitext(os.path.basename(filepath))[0])\n",
    "        sheets[i].readsheet(tergetfolder, student_num)\n",
    "        sheets[i].show(\"concat\", 1)\n",
    "\n",
    "else:\n",
    "\n",
    "    print(\"Concat Sheets...\")\n",
    "    for i, filepath in enumerate(sorted(glob(f\"{BasePath}/scan/*.jpg\"))):\n",
    "        print(os.path.basename(filepath))\n",
    "        sheets.append(Exam.Paper(BasePath))\n",
    "        num = int((i-1)/2)\n",
    "        sheets[num].makesheet(filepath)\n",
    "        sheets[num].show(\"concat\", 1)\n",
    "        sheets[num].get_student(startpoints = (0.14, 0.08), endpoints = (0.29, 0.17))\n",
    "        sheets[num].save(\"concat\")\n",
    "        sheets[num].save(\"check\")\n",
    "        \n",
    "    sheets = sorted(sheets, key=lambda s: s.student_num)"
   ]
  },
  {
   "cell_type": "markdown",
   "metadata": {},
   "source": [
    "問題の定義（配点と正答の設定）"
   ]
  },
  {
   "cell_type": "code",
   "execution_count": 5,
   "metadata": {},
   "outputs": [],
   "source": [
    "#問題を定義\n",
    "questions = []\n",
    "\n",
    "#インデックス0はダミーで埋める\n",
    "questions.append(Exam.Question(sheets, \"dummy\", [(0, 0), (1, 1)], [0]))\n",
    "\n",
    "#問1\n",
    "score = [2] * 5; correct_answer = [\"L\", \"M\", \"O\", \"N\", \"A\"]\n",
    "questions.append(Exam.MarkQuestion(sheets, \"Q1\", [[(0.05, 0.18), (0.48, 0.32)]], 26, score, correct_answer))\n",
    "#問2\n",
    "score = [2] * 8; correct_answer = [\"A\", \"B\", \"F\", \"I\", \"O\", \"J\", \"M\", \"Q\"]\n",
    "questions.append(Exam.MarkQuestion(sheets, \"Q2\", [[(0.05, 0.32), (0.48, 0.53)]], 26, score, correct_answer))\n",
    "#問3\n",
    "score = [2] * 8; correct_answer = [\"D\", \"M\", \"B\", \"N\", \"E\", \"O\", \"G\", \"L\"]\n",
    "questions.append(Exam.MarkQuestion(sheets, \"Q3\", [[(0.05, 0.53), (0.48, 0.75)]], 26, score, correct_answer))\n",
    "#問4\n",
    "score = [2] * 4; correct_answer = [\"A\", \"B\", \"C\", \"B\"]\n",
    "questions.append(Exam.MarkQuestion(sheets, \"Q4\", [[(0.05, 0.75), (0.48, 0.90)]], 26, score, correct_answer))\n",
    "#問5\n",
    "score = [1] * 20; correct_answer = [\"G\", \"B\", \"F\", \n",
    "                                    \"G\", \"B\", \"C\", \n",
    "                                    \"G\", \"D\", \"E\",\n",
    "                                    \"G\", \"B\", \"J\", \"D\",\n",
    "                                    \"H\", \"G\", \"B\", \"H\",\n",
    "                                    \"G\", \"D\", \"I\"]\n",
    "\n",
    "questions.append(Exam.MarkQuestion(sheets, \"Q5\", [[(0.53, 0.08), (0.93, 0.54)]], 26, score, correct_answer))\n",
    "#問6\n",
    "score = [2] * 5; correct_answer = [\"A\", \"B\", \"A\", \"A\", \"B\"]\n",
    "questions.append(Exam.MarkQuestion(sheets, \"Q6\", [[(0.53, 0.54), (0.93, 0.67)]], 26, score, correct_answer))\n",
    "#問7\n",
    "score = [2] * 5; correct_answer = [\"D\", \"B\", \"G\", \"C\", \"A\"]\n",
    "questions.append(Exam.MarkQuestion(sheets, \"Q7\", [[(0.53, 0.67), (0.93, 0.80)]], 26, score, correct_answer))\n",
    "#問8\n",
    "score = [2] * 5; correct_answer = [\"E\", \"A\", \"F\", \"B\", \"Z\"]\n",
    "questions.append(Exam.MarkQuestion(sheets, \"Q8\", [[(0.53, 0.80), (0.93, 0.94)]], 26, score, correct_answer))\n"
   ]
  },
  {
   "cell_type": "markdown",
   "metadata": {},
   "source": [
    "マークの読み取りと採点"
   ]
  },
  {
   "cell_type": "code",
   "execution_count": 6,
   "metadata": {},
   "outputs": [
    {
     "name": "stdout",
     "output_type": "stream",
     "text": [
      "Q1 reading...\n",
      "[11 12 14 13  0]\n",
      "[1. 1. 1. 1. 1.]\n",
      "[11 12 14 13  0]\n",
      "[1. 1. 1. 1. 1.]\n",
      "[11 12 14 13  0]\n",
      "[1. 1. 1. 1. 1.]\n",
      "Q2 reading...\n",
      "[ 0  1  5  8 14  9 12 16]\n",
      "[1. 1. 1. 1. 1. 1. 1. 1.]\n",
      "down threshold to 0.18181818181818182\n",
      "down threshold to 0.1652892561983471\n",
      "down threshold to 0.15026296018031554\n",
      "down threshold to 0.13660269107301412\n",
      "down threshold to 0.124184264611831\n",
      "down threshold to 0.11289478601075545\n",
      "down threshold to 0.10263162364614131\n",
      "down threshold to 0.09330147604194663\n",
      "down threshold to 0.08481952367449694\n",
      "down threshold to 0.0771086578859063\n",
      "down threshold to 0.07009877989627845\n",
      "down threshold to 0.06372616354207132\n",
      "down threshold to 0.05793287594733756\n",
      "[ 0  1  5  8 14  9 12 16]\n",
      "[1. 1. 1. 1. 1. 1. 1. 1.]\n",
      "[ 0  1  5  8 14  9 12 16]\n",
      "[1. 1. 1. 1. 1. 1. 1. 1.]\n",
      "Q3 reading...\n",
      "[ 3 12  1 13  4 14  6 11]\n",
      "[1. 1. 1. 1. 1. 1. 1. 1.]\n",
      "[ 3 12  1 13  4 14  6 11]\n",
      "[1. 1. 1. 1. 1. 1. 1. 1.]\n",
      "[ 3 12  1 13  4 14  6 11]\n",
      "[1. 1. 1. 1. 1. 1. 1. 1.]\n",
      "Q4 reading...\n",
      "[0 1 2 1]\n",
      "[1. 1. 1. 1.]\n",
      "[0 1 2 1]\n",
      "[1. 1. 1. 1.]\n",
      "down threshold to 0.18181818181818182\n",
      "[0 1 2 1]\n",
      "[1. 1. 1. 1.]\n",
      "Q5 reading...\n",
      "[6 1 5 6 1 2 6 3 4 6 1 9 3 7 6 1 7 6 3 8]\n",
      "[1. 1. 1. 1. 1. 1. 1. 1. 1. 1. 1. 1. 1. 1. 1. 1. 1. 1. 1. 1.]\n",
      "[6 1 5 6 1 2 6 3 4 6 1 9 3 7 6 1 7 6 3 8]\n",
      "[1. 1. 1. 1. 1. 1. 1. 1. 1. 1. 1. 1. 1. 1. 1. 1. 1. 1. 1. 1.]\n",
      "[6 1 5 6 1 2 6 3 4 6 1 9 3 7 6 1 7 6 3 8]\n",
      "[1. 1. 1. 1. 1. 1. 1. 1. 1. 1. 1. 1. 1. 1. 1. 1. 1. 1. 1. 1.]\n",
      "Q6 reading...\n",
      "[[0. 0. 0.]\n",
      " [0. 0. 0.]\n",
      " [0. 0. 0.]\n",
      " [0. 0. 0.]\n",
      " [0. 0. 0.]]\n",
      "<map object at 0x0000018FFCBC7610>\n",
      "range(1, 6)\n",
      "[0 1 0 0 1]\n",
      "[1. 1. 1. 1. 1.]\n",
      "Folder is not exist...\n",
      "[0 1 0 0 1]\n",
      "[1. 1. 1. 1. 1.]\n",
      "[0 1 0 0 1]\n",
      "[1. 1. 1. 1. 1.]\n",
      "Q7 reading...\n",
      "[[0. 0. 0.]\n",
      " [0. 0. 0.]\n",
      " [0. 0. 0.]\n",
      " [0. 0. 0.]\n",
      " [0. 0. 0.]]\n",
      "<map object at 0x0000018FFCBC7610>\n",
      "range(1, 6)\n",
      "[3 1 6 2 0]\n",
      "[1. 1. 1. 1. 1.]\n",
      "Folder is not exist...\n",
      "[3 1 6 2 0]\n",
      "[1. 1. 1. 1. 1.]\n",
      "[3 1 6 2 0]\n",
      "[1. 1. 1. 1. 1.]\n",
      "Q8 reading...\n",
      "[[0. 0. 0.]\n",
      " [0. 0. 0.]\n",
      " [0. 0. 0.]\n",
      " [0. 0. 0.]\n",
      " [0. 0. 0.]]\n",
      "<map object at 0x0000018FFCBC7610>\n",
      "range(1, 6)\n",
      "[ 4  0  5  1 25]\n",
      "[1. 1. 1. 1. 1.]\n",
      "Folder is not exist...\n",
      "[ 4  0  5  1 25]\n",
      "[1. 1. 1. 1. 1.]\n",
      "[ 4  0  5  1 25]\n",
      "[1. 1. 1. 1. 1.]\n"
     ]
    }
   ],
   "source": [
    "for i in range(1,8+1):\n",
    "    questions[i].read()#; questions[i].get_correct_answer(); \n",
    "    questions[i].grading()\n",
    "    pass\n"
   ]
  },
  {
   "cell_type": "code",
   "execution_count": 9,
   "metadata": {},
   "outputs": [
    {
     "name": "stdout",
     "output_type": "stream",
     "text": [
      "Q1 updating...\n",
      "Folder is not exist...\n",
      "Q2 updating...\n",
      "Q3 updating...\n",
      "Q4 updating...\n",
      "Q5 updating...\n",
      "Q6 updating...\n",
      "Q7 updating...\n",
      "Q8 updating...\n"
     ]
    }
   ],
   "source": [
    "for i in range(1,len(questions)):\n",
    "    questions[i].update()\n",
    "    pass"
   ]
  },
  {
   "cell_type": "code",
   "execution_count": 14,
   "metadata": {},
   "outputs": [
    {
     "name": "stdout",
     "output_type": "stream",
     "text": [
      "[64. 86. 85.]\n"
     ]
    },
    {
     "name": "stderr",
     "output_type": "stream",
     "text": [
      "C:\\Users\\Yusaku\\AppData\\Local\\Temp\\ipykernel_31504\\2292167151.py:27: DeprecationWarning: Conversion of an array with ndim > 0 to a scalar is deprecated, and will error in future. Ensure you extract a single element from your array before performing this operation. (Deprecated NumPy 1.25.)\n",
      "  note = f\"average:{int(ave)}, median:{int(med)}, std:{int(std)} rank:{int(rank.values[i])}/{len(sheets)}\"\n"
     ]
    }
   ],
   "source": [
    "#総合点の計算\n",
    "totalscore = np.array([0] * len(sheets), dtype='float64')\n",
    "for i in range(1, len(questions)):\n",
    "    questions[i].scoring(BasePath)\n",
    "    #print(questions[i].sumscore)\n",
    "    totalscore += np.array(questions[i].sumscore, dtype='float64')\n",
    "ave = np.average(totalscore)\n",
    "med = np.median(totalscore)\n",
    "std = np.std(totalscore)\n",
    "\n",
    "print(totalscore)\n",
    "\n",
    "#順位の計算\n",
    "totalscore = pd.DataFrame({\"score\":totalscore}, index= questions[1].grade.columns)\n",
    "rank = totalscore.rank(ascending=False, method='min')\n",
    "\n",
    "#採点結果を保存\n",
    "data = np.zeros((len(totalscore)))\n",
    "columns = range(1)\n",
    "rows = map(str, questions[1].grade.columns)\n",
    "result = totalscore\n",
    "path = f\"{BasePath}/result\"\n",
    "result.to_csv(f\"{path}.csv\")\n",
    "\n",
    "#書き込み\n",
    "for i, sheet in enumerate(sheets):\n",
    "    note = f\"average:{int(ave)}, median:{int(med)}, std:{int(std)} rank:{int(rank.values[i])}/{len(sheets)}\" \n",
    "    sheet.update_score_MD(totalscore.values[i], note)"
   ]
  }
 ],
 "metadata": {
  "kernelspec": {
   "display_name": "Python 3",
   "language": "python",
   "name": "python3"
  },
  "language_info": {
   "codemirror_mode": {
    "name": "ipython",
    "version": 3
   },
   "file_extension": ".py",
   "mimetype": "text/x-python",
   "name": "python",
   "nbconvert_exporter": "python",
   "pygments_lexer": "ipython3",
   "version": "3.10.4"
  },
  "orig_nbformat": 4
 },
 "nbformat": 4,
 "nbformat_minor": 2
}
