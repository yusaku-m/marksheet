{
 "cells": [
  {
   "cell_type": "code",
   "execution_count": 1,
   "metadata": {},
   "outputs": [
    {
     "name": "stdout",
     "output_type": "stream",
     "text": [
      "scoring start of Q 1\n",
      "scoring start of Q 2\n",
      "scoring start of Q 3\n",
      "correct: 1000.0 N  ===== answer: 1000.0 N\n",
      "correct: -3000.0 Nm  ===== answer: -3000.0 Nm\n",
      "correct: -3000.0 Nm  ===== answer: 1000.0 N\n",
      "correct: 1000.0 N  ===== answer: -3000.0 Nm\n",
      "correct: 1000.0 N  ===== answer: 1000.0 N\n",
      "correct: -3000.0 Nm  ===== answer: -3000.0 Nm\n",
      "correct: 300.0 N  ===== answer: 300.0 N\n",
      "correct: -500.0 Nm  ===== answer: -500.0 Nm\n",
      "correct: -500.0 Nm  ===== answer: 300.0 N\n",
      "correct: 300.0 N  ===== answer: -500.0 Nm\n",
      "correct: 300.0 N  ===== answer: 300.0 N\n",
      "correct: -500.0 Nm  ===== answer: -500.0 Nm\n",
      "correct: 40.0 N  ===== answer: 40.0 N\n",
      "correct: -40.0 N  ===== answer: -40.0 N\n",
      "correct: -40.0 N  ===== answer: 40.0 N\n",
      "correct: 40.0 N  ===== answer: -40.0 N\n",
      "correct: 40.0 N  ===== answer: 40.0 N\n",
      "correct: -40.0 N  ===== answer: -40.0 N\n",
      "correct: 1000.0 N  ===== answer: 1000.0 N\n",
      "correct: 1000.0 N  ===== answer: 1000.0 N\n",
      "correct: 1000.0 N  ===== answer: 1000.0 N\n",
      "correct: 1000.0 N  ===== answer: 1000.0 N\n",
      "correct: 1000.0 N  ===== answer: 1000.0 N\n",
      "correct: 1000.0 N  ===== answer: 1000.0 N\n",
      "correct: -60.0 N  ===== answer: -60.0 N\n",
      "correct: 500.0 N  ===== answer: 500.0 N\n",
      "correct: 500.0 N  ===== answer: -60.0 N\n",
      "correct: -60.0 N  ===== answer: 500.0 N\n",
      "correct: -60.0 N  ===== answer: -60.0 N\n",
      "correct: 500.0 N  ===== answer: 500.0 N\n",
      "scoring start of Q 4\n",
      "correct: 1000.0 N  ===== answer: 1000.0 N\n",
      "correct: 1000.0 N  ===== answer: 1000.0 N\n",
      "correct: 0.04 -  ===== answer: 0.04 -\n",
      "correct: 0.1 m  ===== answer: 0.0 -\n",
      "75.5\n"
     ]
    }
   ],
   "source": [
    "from packages import Exam\n",
    "from packages import Unit\n",
    "from packages.Unit import N, m, m2, m3, m4, pers, Pa,  K\n",
    "import numpy as np\n",
    "\n",
    "path = [\"./files/result/csv/top_sample.csv\",\n",
    "        \"./files/result/csv/back_sample.csv\"]\n",
    "unit_instances = [N(), m(), m2(), m3(), m4(), pers(), Pa(), K()]\n",
    "\n",
    "exam = Exam.Exam(path)\n",
    "exam.get_marks()\n",
    "exam.get_student()\n",
    "#q1\n",
    "exam.parts.append(Exam.SingleAlphabetPart(marks=exam.marks[0][4:9, 1:27], corrects=[\"A\",\"Q\",\"B\",\"H\",\"P\"], allocations=[2] * 5))\n",
    "#q2\n",
    "exam.parts.append(Exam.SingleAlphabetPart(marks=exam.marks[0][10:20, 1:27], corrects=[\"A\",\"E\",\"B\",\"C\",\"H\",\"I\",\"J\",\"M\",\"N\",\"O\"], allocations=[2] * 10))\n",
    "#q3\n",
    "exam.parts.append(Exam.DualNumberPart(\n",
    "    marks = np.vstack([exam.marks[0][21:37, 1:27], exam.marks[0][2:6, 29:55]]),\n",
    "    unit_instances=unit_instances,\n",
    "    corrects = [\n",
    "        [{\"value\":1e3, \"unit\":Unit.N()}, {\"value\":-3e3, \"unit\":Unit.Nm()}],\n",
    "        [{\"value\":3e2, \"unit\":Unit.N()}, {\"value\":-5e2, \"unit\":Unit.Nm()}],\n",
    "        [{\"value\":4e1, \"unit\":Unit.N()}, {\"value\":-4e1, \"unit\":Unit.N()}],\n",
    "        [{\"value\":1e3, \"unit\":Unit.N()}, {\"value\":1e3, \"unit\":Unit.N()}],\n",
    "        [{\"value\":-6e1, \"unit\":Unit.N()}, {\"value\":5e2, \"unit\":Unit.N()}],\n",
    "    ],\n",
    "    allocations = [6] * 5\n",
    "    ))\n",
    "#q4\n",
    "variables = [\n",
    "    {\"name\":\"i\", \"equation\":\"np.linspace(0,1,100)\", \"unit\":Unit.non(), \"first difine\": 0},\n",
    "    {\"name\":\"y\", \"equation\":\"np.linspace(1,2,100)\", \"unit\":Unit.m(), \"first difine\": 0},\n",
    "    {\"name\":\"x\", \"equation\":\"np.linspace(0, 2 / L , 10)\", \"unit\" : Unit.m(), \"first difine\": 0},\n",
    "    {\"name\":\"EI\", \"value\":2.5e5, \"unit\": Unit.Nm2(), \"first difine\": 0},\n",
    "    {\"name\":\"h\", \"value\":20e-3, \"unit\": Unit.m(), \"first difine\": 0},\n",
    "    {\"name\":\"b\", \"value\":30e-3, \"unit\": Unit.m(), \"first difine\": 0},\n",
    "    {\"name\":\"w0\", \"value\":1e2, \"unit\": Unit.N_per_m(), \"first difine\": 0},\n",
    "    {\"name\":\"L\", \"value\":1e1, \"unit\": Unit.m(), \"first difine\": 0},\n",
    "    {\"name\":\"L^2\", \"equation\":\" L ** 2\", \"unit\": Unit.m2(), \"first difine\": 0},\n",
    "    {\"name\":\"L^3\", \"equation\":\" L ** 3\", \"unit\": Unit.m3(), \"first difine\": 0},\n",
    "    {\"name\":\"L^4\", \"equation\":\" L ** 4\", \"unit\": Unit.m4(), \"first difine\": 0}\n",
    "]\n",
    "\n",
    "corrects = [\n",
    "    {\"name\":\"RA\", \"equation\":\" w0 * L \"},\n",
    "    {\"name\":\"RB\", \"equation\":\" w0 * L \"},\n",
    "    {\"name\":\"a\", \"equation\":\" w0 * x / L \"},\n",
    "    {\"name\":\"x1\", \"equation\":\" y \"},\n",
    "    {\"name\":\"x2\", \"equation\":\" y / L \"},\n",
    "    {\"name\":\"theta\", \"equation\":\" 5 * w0 * L ** 3 / 48 / EI \"},\n",
    "    {\"name\":\"delta\", \"equation\":\" 13 * w0 * L ** 4 / 384 / EI \"},    \n",
    "    ]\n",
    "\n",
    "question_classes = [\n",
    "    Exam.EquationAndNumberQuestion,\n",
    "    Exam.EquationAndNumberQuestion,\n",
    "    Exam.EquationQuestion,\n",
    "    Exam.EquationQuestion,\n",
    "    Exam.EquationQuestion,\n",
    "    Exam.EquationAndNumberQuestion,\n",
    "    Exam.EquationAndNumberQuestion\n",
    "    ]\n",
    "\n",
    "exam.parts.append(\n",
    "    Exam.Part(\n",
    "        marks = np.vstack([exam.marks[0][7:37, 29:55], exam.marks[1][2:7, 1:27]]),\n",
    "        variables = variables,\n",
    "        corrects = corrects,\n",
    "        allocations = [2] * 5 + [5] * 2,\n",
    "        question_classes=question_classes,\n",
    "        unit_instances=unit_instances\n",
    "        )\n",
    "    )\n",
    "\n",
    "\n",
    "exam.scoring()\n",
    "\n",
    "print(exam.score)\n",
    " "
   ]
  },
  {
   "cell_type": "code",
   "execution_count": 2,
   "metadata": {},
   "outputs": [
    {
     "name": "stdout",
     "output_type": "stream",
     "text": [
      "[]\n",
      "10\n",
      "[]\n",
      "20\n",
      "[N, m, m2, m3, m4, /s, Pa, K]\n",
      "30.0\n",
      "[N, m, m2, m3, m4, /s, Pa, K]\n",
      "15.5\n"
     ]
    }
   ],
   "source": [
    "for p in exam.parts:\n",
    "    print(p.unit_instances)\n",
    "    print(p.score)"
   ]
  },
  {
   "cell_type": "code",
   "execution_count": 3,
   "metadata": {},
   "outputs": [
    {
     "name": "stdout",
     "output_type": "stream",
     "text": [
      "10\n",
      "20\n",
      "30.0\n",
      "15.5\n"
     ]
    }
   ],
   "source": [
    "for p in exam.parts:\n",
    "    print(p.score)"
   ]
  },
  {
   "cell_type": "markdown",
   "metadata": {},
   "source": [
    "q4"
   ]
  },
  {
   "cell_type": "code",
   "execution_count": 4,
   "metadata": {},
   "outputs": [
    {
     "name": "stdout",
     "output_type": "stream",
     "text": [
      "2.0\n",
      "2.0\n",
      "0\n",
      "2\n",
      "2\n",
      "5.0\n",
      "2.5\n"
     ]
    }
   ],
   "source": [
    "for p in exam.parts[3].questions:    \n",
    "    print(p.score)"
   ]
  },
  {
   "cell_type": "code",
   "execution_count": 5,
   "metadata": {},
   "outputs": [
    {
     "data": {
      "text/plain": [
       "1.0"
      ]
     },
     "execution_count": 5,
     "metadata": {},
     "output_type": "execute_result"
    }
   ],
   "source": [
    "exam.parts[3].questions[0].answers[0].score"
   ]
  },
  {
   "cell_type": "code",
   "execution_count": 6,
   "metadata": {},
   "outputs": [
    {
     "name": "stdout",
     "output_type": "stream",
     "text": [
      "init\n",
      "open ./files/scan/back_sample.jpg\n",
      "read image shape: (2341, 1643, 3)\n",
      "rotated to horizontal\n",
      "make reference image shape: (1562, 2258) reqtangle h,w: 40.073170731707314 41.07017543859649\n",
      "rotation: 0, max_val: 0.17581678926944733\n",
      "rotation: 1, max_val: 0.5526888370513916\n",
      "best_rotation: 1\n",
      "rotation complete\n",
      "aliment start\n",
      "make reference image shape: (1562, 2258) reqtangle h,w: 40.073170731707314 41.07017543859649\n"
     ]
    }
   ],
   "source": [
    "from packages import Marksheet\n",
    "\n",
    "marker_positions = [\n",
    "    ( 2, 26),\n",
    "    ( 2, 28),\n",
    "    ( 2, 56),\n",
    "    ( 3, 24),\n",
    "    (40,  2),\n",
    "    (40, 56),\n",
    "]\n",
    "\n",
    "sheet = Marksheet(path = \"./files/scan/back_sample.jpg\", \n",
    "                  row = 41, column = 57, \n",
    "                  marker_positions = marker_positions,\n",
    "                  binary_threshold=240,\n",
    "                  monitor= True)\n",
    "sheet.read()\n",
    "sheet.rotation()\n",
    "sheet.aliment()\n",
    "sheet.threshold_check()\n",
    "sheet.make_grids()\n",
    "sheet.mark_check()\n",
    "sheet.draw_grid()\n",
    "sheet.save()"
   ]
  },
  {
   "cell_type": "code",
   "execution_count": null,
   "metadata": {},
   "outputs": [],
   "source": [
    "from packages import Marksheet\n",
    "\n",
    "marker_positions = [\n",
    "    ( 2, 28),\n",
    "    ( 2, 56),\n",
    "    (40,  2),\n",
    "    (40,  4),\n",
    "    (40, 56),\n",
    "]\n",
    "\n",
    "sheet = Marksheet(path = \"./files/scan/top_sample.jpg\", \n",
    "                  row = 41, column = 57, \n",
    "                  marker_positions=marker_positions,\n",
    "                  binary_threshold=240,\n",
    "                  monitor= True)\n",
    "\n",
    "sheet.read()\n",
    "sheet.rotation()\n",
    "sheet.aliment()\n",
    "sheet.draw_grid()\n",
    "sheet.threshold_check()\n",
    "sheet.make_grids()\n",
    "sheet.mark_check()\n",
    "sheet.save()\n"
   ]
  },
  {
   "cell_type": "code",
   "execution_count": null,
   "metadata": {},
   "outputs": [],
   "source": []
  }
 ],
 "metadata": {
  "kernelspec": {
   "display_name": "Python 3",
   "language": "python",
   "name": "python3"
  },
  "language_info": {
   "codemirror_mode": {
    "name": "ipython",
    "version": 3
   },
   "file_extension": ".py",
   "mimetype": "text/x-python",
   "name": "python",
   "nbconvert_exporter": "python",
   "pygments_lexer": "ipython3",
   "version": "3.10.6"
  }
 },
 "nbformat": 4,
 "nbformat_minor": 2
}
