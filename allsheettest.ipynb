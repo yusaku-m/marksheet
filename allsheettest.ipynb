{
 "cells": [
  {
   "cell_type": "code",
   "execution_count": null,
   "metadata": {},
   "outputs": [],
   "source": [
    "from packages import Exam\n",
    "from packages import Unit\n",
    "from packages.Unit import N, m, m2, m3, m4, pers, Pa,  K\n",
    "import numpy as np\n",
    "\n",
    "path = [\"./files/result/csv/top_sample.csv\",\n",
    "        \"./files/result/csv/back_sample.csv\"]\n",
    "unit_instances = [N(), m(), m2(), m3(), m4(), pers(), Pa(), K()]\n",
    "\n",
    "exam = Exam.Exam(path)\n",
    "exam.get_marks()\n",
    "exam.get_student()\n",
    "#q1\n",
    "exam.parts.append(Exam.SingleAlphabetPart(marks=exam.marks[0][4:9, 1:27], corrects=[\"A\",\"Q\",\"B\",\"H\",\"P\"], allocations=[2] * 5))\n",
    "#q2\n",
    "exam.parts.append(Exam.SingleAlphabetPart(marks=exam.marks[0][10:20, 1:27], corrects=[\"A\",\"E\",\"B\",\"C\",\"H\",\"I\",\"J\",\"M\",\"N\",\"O\"], allocations=[2] * 10))\n",
    "#q3\n",
    "exam.parts.append(Exam.DualNumberPart(\n",
    "    marks = np.vstack([exam.marks[0][21:37, 1:27], exam.marks[0][2:6, 29:55]]),\n",
    "    unit_instances=unit_instances,\n",
    "    corrects = [\n",
    "        [{\"value\":1e3, \"unit\":Unit.N()}, {\"value\":-3e3, \"unit\":Unit.Nm()}],\n",
    "        [{\"value\":3e2, \"unit\":Unit.N()}, {\"value\":-5e2, \"unit\":Unit.Nm()}],\n",
    "        [{\"value\":4e1, \"unit\":Unit.N()}, {\"value\":-4e1, \"unit\":Unit.N()}],\n",
    "        [{\"value\":1e3, \"unit\":Unit.N()}, {\"value\":1e3, \"unit\":Unit.N()}],\n",
    "        [{\"value\":-6e1, \"unit\":Unit.N()}, {\"value\":5e2, \"unit\":Unit.N()}],\n",
    "    ],\n",
    "    allocations = [6] * 5\n",
    "    ))\n",
    "#q4\n",
    "variables = [\n",
    "    {\"name\":\"i\", \"equation\":\"np.linspace(0,1,100)\", \"unit\":Unit.non(), \"first difine\": 0},\n",
    "    {\"name\":\"y\", \"equation\":\"np.linspace(1,2,100)\", \"unit\":Unit.m(), \"first difine\": 0},\n",
    "    {\"name\":\"x\", \"equation\":\"np.linspace(0, 2 / L , 10)\", \"unit\" : Unit.m(), \"first difine\": 0},\n",
    "    {\"name\":\"EI\", \"value\":2.5e5, \"unit\": Unit.Nm2(), \"first difine\": 0},\n",
    "    {\"name\":\"h\", \"value\":20e-3, \"unit\": Unit.m(), \"first difine\": 0},\n",
    "    {\"name\":\"b\", \"value\":30e-3, \"unit\": Unit.m(), \"first difine\": 0},\n",
    "    {\"name\":\"w0\", \"value\":1e2, \"unit\": Unit.N_per_m(), \"first difine\": 0},\n",
    "    {\"name\":\"L\", \"value\":1e1, \"unit\": Unit.m(), \"first difine\": 0},\n",
    "    {\"name\":\"L^2\", \"equation\":\" L ** 2\", \"unit\": Unit.m2(), \"first difine\": 0},\n",
    "    {\"name\":\"L^3\", \"equation\":\" L ** 3\", \"unit\": Unit.m3(), \"first difine\": 0},\n",
    "    {\"name\":\"L^4\", \"equation\":\" L ** 4\", \"unit\": Unit.m4(), \"first difine\": 0}\n",
    "]\n",
    "\n",
    "corrects = [\n",
    "    {\"name\":\"RA\", \"equation\":\" w0 * L \"},\n",
    "    {\"name\":\"RB\", \"equation\":\" w0 * L \"},\n",
    "    {\"name\":\"a\", \"equation\":\" -1 * w0 * x / 2 \"},\n",
    "    {\"name\":\"x1\", \"equation\":\" y \"},\n",
    "    {\"name\":\"x2\", \"equation\":\" y / L \"},\n",
    "    {\"name\":\"theta\", \"equation\":\" 5 * w0 * L ** 3 / 48 / EI \"},\n",
    "    {\"name\":\"delta\", \"equation\":\" 13 * w0 * L ** 4 / 384 / EI \"},    \n",
    "    ]\n",
    "\n",
    "question_classes = [\n",
    "    Exam.EquationAndNumberQuestion,\n",
    "    Exam.EquationAndNumberQuestion,\n",
    "    Exam.EquationQuestion,\n",
    "    Exam.EquationQuestion,\n",
    "    Exam.EquationQuestion,\n",
    "    Exam.EquationAndNumberQuestion,\n",
    "    Exam.EquationAndNumberQuestion\n",
    "    ]\n",
    "\n",
    "exam.parts.append(\n",
    "    Exam.Part(\n",
    "        marks = np.vstack([exam.marks[0][7:37, 29:55], exam.marks[1][2:7, 1:27]]),\n",
    "        variables = variables,\n",
    "        corrects = corrects,\n",
    "        allocations = [2] * 5 + [5] * 2,\n",
    "        question_classes=question_classes,\n",
    "        unit_instances=unit_instances\n",
    "        )\n",
    "    )\n",
    "\n",
    "\n",
    "exam.scoring()\n",
    "\n",
    "print(exam.score)\n",
    " "
   ]
  },
  {
   "cell_type": "code",
   "execution_count": null,
   "metadata": {},
   "outputs": [],
   "source": [
    "exam.parts[3].questions[0].answers[0].variables"
   ]
  },
  {
   "cell_type": "code",
   "execution_count": null,
   "metadata": {},
   "outputs": [],
   "source": [
    "for p in exam.parts:\n",
    "    for q in p.questions:\n",
    "        for a in q.answers:\n",
    "            print(a)"
   ]
  },
  {
   "cell_type": "code",
   "execution_count": null,
   "metadata": {},
   "outputs": [],
   "source": [
    "for p in exam.parts:\n",
    "    print(p.score)"
   ]
  },
  {
   "cell_type": "markdown",
   "metadata": {},
   "source": [
    "q4"
   ]
  },
  {
   "cell_type": "code",
   "execution_count": null,
   "metadata": {},
   "outputs": [],
   "source": [
    "for p in exam.parts[3].questions:    \n",
    "    print(p.score)"
   ]
  },
  {
   "cell_type": "code",
   "execution_count": null,
   "metadata": {},
   "outputs": [],
   "source": [
    "exam.parts[3].questions[0].answers[0].score"
   ]
  },
  {
   "cell_type": "code",
   "execution_count": null,
   "metadata": {},
   "outputs": [],
   "source": [
    "from packages import Marksheet\n",
    "\n",
    "marker_positions = [\n",
    "    ( 2, 26),\n",
    "    ( 2, 28),\n",
    "    ( 2, 56),\n",
    "    ( 3, 24),\n",
    "    (40,  2),\n",
    "    (40, 56),\n",
    "]\n",
    "\n",
    "sheet = Marksheet(path = \"./files/scan/back_sample.jpg\", \n",
    "                  row = 41, column = 57, \n",
    "                  marker_positions = marker_positions,\n",
    "                  binary_threshold=240,\n",
    "                  monitor= True)\n",
    "sheet.read()\n",
    "sheet.rotation()\n",
    "sheet.aliment()\n",
    "sheet.threshold_check()\n",
    "sheet.make_grids()\n",
    "sheet.mark_check()\n",
    "sheet.draw_grid()\n",
    "sheet.save()"
   ]
  },
  {
   "cell_type": "code",
   "execution_count": null,
   "metadata": {},
   "outputs": [],
   "source": [
    "from packages import Marksheet\n",
    "\n",
    "marker_positions = [\n",
    "    ( 2, 28),\n",
    "    ( 2, 56),\n",
    "    (40,  2),\n",
    "    (40,  4),\n",
    "    (40, 56),\n",
    "]\n",
    "\n",
    "sheet = Marksheet(path = \"./files/scan/top_sample.jpg\", \n",
    "                  row = 41, column = 57, \n",
    "                  marker_positions=marker_positions,\n",
    "                  binary_threshold=240,\n",
    "                  monitor= True)\n",
    "\n",
    "sheet.read()\n",
    "sheet.rotation()\n",
    "sheet.aliment()\n",
    "sheet.draw_grid()\n",
    "sheet.threshold_check()\n",
    "sheet.make_grids()\n",
    "sheet.mark_check()\n",
    "sheet.save()\n"
   ]
  },
  {
   "cell_type": "code",
   "execution_count": null,
   "metadata": {},
   "outputs": [],
   "source": []
  }
 ],
 "metadata": {
  "kernelspec": {
   "display_name": "Python 3",
   "language": "python",
   "name": "python3"
  },
  "language_info": {
   "codemirror_mode": {
    "name": "ipython",
    "version": 3
   },
   "file_extension": ".py",
   "mimetype": "text/x-python",
   "name": "python",
   "nbconvert_exporter": "python",
   "pygments_lexer": "ipython3",
   "version": "3.10.4"
  }
 },
 "nbformat": 4,
 "nbformat_minor": 2
}
