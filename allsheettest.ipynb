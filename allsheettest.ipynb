{
 "cells": [
  {
   "cell_type": "code",
   "execution_count": 1,
   "metadata": {},
   "outputs": [
    {
     "name": "stdout",
     "output_type": "stream",
     "text": [
      "scoring start of Q 1\n",
      "scoring start of Q 2\n",
      "scoring start of Q 3\n",
      "60.0\n"
     ]
    }
   ],
   "source": [
    "from packages import Exam\n",
    "from packages import Unit\n",
    "import numpy as np\n",
    "path = [\"./files/result/csv/top_sample.csv\",\n",
    "        \"./files/result/csv/back_sample.csv\"]\n",
    "\n",
    "variables = [\n",
    "    {\"name\":\"w0\", \"value\":1e2, \"unit\":Unit.N_per_m(), \"function\": \"w0\", \"first difine\": 0},\n",
    "    {\"name\":\"EI\", \"value\":1e5, \"unit\":Unit.Nm2(), \"function\": \"EI\", \"first difine\": 0},\n",
    "    {\"name\":\"L\", \"value\":1e1, \"unit\":Unit.m(), \"function\": \"L\", \"first difine\": 1},\n",
    "    {\"name\":\"x\", \"value\":np.array(range()), \"unit\":Unit.m(), \"function\": \"L\", \"first difine\": 1},\n",
    "    {\"name\":\"RA\", \"value\":None, \"unit\":Unit.N(), \"function\": \"w0 * L\", \"first difine\": 1},\n",
    "    {\"name\":\"RB\", \"value\":None, \"unit\":Unit.N(), \"function\": \"w0 * L\", \"first difine\": 1},\n",
    "    {\"name\":\"a\", \"value\":None, \"unit\":Unit.N_per_m(), \"function\": \"w0 * x / L\", \"first difine\": 2},\n",
    "\n",
    "]\n",
    "\n",
    "exam = Exam.Exam(path)\n",
    "exam.get_marks()\n",
    "exam.get_student()\n",
    "#q1\n",
    "exam.parts.append(Exam.SingleAlphabetPart(exam.marks[0][4:9, 1:27],[\"A\",\"Q\",\"B\",\"H\",\"P\"], [2] * 5))\n",
    "#q2\n",
    "exam.parts.append(Exam.SingleAlphabetPart(exam.marks[0][10:20, 1:27],[\"A\",\"E\",\"B\",\"C\",\"H\",\"I\",\"J\",\"M\",\"N\",\"O\"], [2] * 10))\n",
    "#q3\n",
    "exam.parts.append(Exam.DualNumberPart(\n",
    "    marks = np.vstack([exam.marks[0][21:37, 3:27], exam.marks[0][2:6, 31:55]]),\n",
    "    corrects = [\n",
    "        [(1e3, Unit.N()),(-3e3, Unit.Nm())],\n",
    "        [(3e2, Unit.N()),(-5e2, Unit.Nm())],\n",
    "        [(4e1, Unit.N()),(-4e1, Unit.N())],\n",
    "        [(1e3, Unit.N()),(1e3, Unit.N())],\n",
    "        [(-6e1, Unit.N()),(5e2, Unit.N())]\n",
    "    ],\n",
    "    allocations = [6] * 5\n",
    "    ))\n",
    "exam.scoring()\n",
    "\n",
    "print(exam.score)"
   ]
  },
  {
   "cell_type": "code",
   "execution_count": 2,
   "metadata": {},
   "outputs": [
    {
     "data": {
      "text/plain": [
       "array([1, 1])"
      ]
     },
     "execution_count": 2,
     "metadata": {},
     "output_type": "execute_result"
    }
   ],
   "source": [
    "eval(\"np.array([1,1])\")"
   ]
  },
  {
   "cell_type": "code",
   "execution_count": null,
   "metadata": {},
   "outputs": [],
   "source": [
    "Unit.Unit().value"
   ]
  },
  {
   "cell_type": "code",
   "execution_count": null,
   "metadata": {},
   "outputs": [],
   "source": [
    "from packages import Marksheet\n",
    "\n",
    "marker_positions = [\n",
    "    ( 2, 26),\n",
    "    ( 2, 28),\n",
    "    ( 2, 56),\n",
    "    ( 3, 24),\n",
    "    (40,  2),\n",
    "    (40, 56),\n",
    "]\n",
    "\n",
    "sheet = Marksheet(path = \"./files/scan/back_sample.jpg\", \n",
    "                  row = 41, column = 57, \n",
    "                  marker_positions = marker_positions,\n",
    "                  binary_threshold=240,\n",
    "                  monitor= True)\n",
    "sheet.read()\n",
    "sheet.rotation()\n",
    "sheet.aliment()\n",
    "sheet.draw_grid()\n",
    "sheet.threshold_check()\n",
    "sheet.make_grids()\n",
    "sheet.mark_check()\n",
    "sheet.save()"
   ]
  },
  {
   "cell_type": "code",
   "execution_count": null,
   "metadata": {},
   "outputs": [],
   "source": [
    "from packages import Marksheet\n",
    "\n",
    "marker_positions = [\n",
    "    ( 2, 28),\n",
    "    ( 2, 56),\n",
    "    (40,  2),\n",
    "    (40,  4),\n",
    "    (40, 56),\n",
    "]\n",
    "\n",
    "sheet = Marksheet(path = \"./files/scan/top_sample.jpg\", \n",
    "                  row = 41, column = 57, \n",
    "                  marker_positions=marker_positions,\n",
    "                  binary_threshold=240,\n",
    "                  monitor= True)\n",
    "\n",
    "sheet.read()\n",
    "sheet.rotation()\n",
    "sheet.aliment()\n",
    "sheet.draw_grid()\n",
    "sheet.threshold_check()\n",
    "sheet.make_grids()\n",
    "sheet.mark_check()\n",
    "sheet.save()\n"
   ]
  },
  {
   "cell_type": "code",
   "execution_count": null,
   "metadata": {},
   "outputs": [],
   "source": []
  }
 ],
 "metadata": {
  "kernelspec": {
   "display_name": "Python 3",
   "language": "python",
   "name": "python3"
  },
  "language_info": {
   "codemirror_mode": {
    "name": "ipython",
    "version": 3
   },
   "file_extension": ".py",
   "mimetype": "text/x-python",
   "name": "python",
   "nbconvert_exporter": "python",
   "pygments_lexer": "ipython3",
   "version": "3.10.6"
  }
 },
 "nbformat": 4,
 "nbformat_minor": 2
}
